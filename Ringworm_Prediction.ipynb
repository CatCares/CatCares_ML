{
  "cells": [
    {
      "cell_type": "markdown",
      "metadata": {
        "id": "view-in-github",
        "colab_type": "text"
      },
      "source": [
        "<a href=\"https://colab.research.google.com/github/FaizAlana03/CatCares_ML/blob/main/Ringworm_Prediction.ipynb\" target=\"_parent\"><img src=\"https://colab.research.google.com/assets/colab-badge.svg\" alt=\"Open In Colab\"/></a>"
      ]
    },
    {
      "cell_type": "code",
      "execution_count": null,
      "id": "f4ca8ab8",
      "metadata": {
        "id": "f4ca8ab8"
      },
      "outputs": [],
      "source": [
        "import tensorflow as tf\n",
        "import numpy as np\n",
        "from tensorflow import keras\n",
        "import os\n",
        "from google.colab import drive\n",
        "import pathlib\n",
        "#import zipfile\n",
        "import matplotlib.pyplot as plt\n",
        "import matplotlib.image as mpimg\n",
        "import itertools\n",
        "from sklearn.metrics import classification_report, confusion_matrix\n",
        "from tensorflow.keras.optimizers import RMSprop\n",
        "from tensorflow.keras.preprocessing.image import ImageDataGenerator"
      ]
    },
    {
      "cell_type": "code",
      "execution_count": null,
      "id": "3cd83d2b",
      "metadata": {
        "colab": {
          "base_uri": "https://localhost:8080/"
        },
        "id": "3cd83d2b",
        "outputId": "6e230f4a-5f49-47b8-f41e-34a027242a3f"
      },
      "outputs": [
        {
          "output_type": "stream",
          "name": "stdout",
          "text": [
            "Mounted at /content/gdrive\n",
            "gdrive/My Drive/Dataset Images\n"
          ]
        }
      ],
      "source": [
        "\n",
        "# Download the dataset\n",
        "drive.mount('/content/gdrive')\n",
        "data_dir = \"gdrive/My Drive/Dataset Images\"\n",
        "data_dir = pathlib.Path(data_dir)\n",
        "print(data_dir)"
      ]
    },
    {
      "cell_type": "code",
      "execution_count": null,
      "id": "72a2cace",
      "metadata": {
        "id": "72a2cace"
      },
      "outputs": [],
      "source": [
        "train_dir = os.path.join(data_dir, 'Training')\n",
        "test_dir = os.path.join(data_dir, 'Test')"
      ]
    },
    {
      "cell_type": "code",
      "execution_count": null,
      "id": "FfKC1kXOluHc",
      "metadata": {
        "colab": {
          "base_uri": "https://localhost:8080/"
        },
        "id": "FfKC1kXOluHc",
        "outputId": "26173dd8-e147-4218-c732-c26aecfa601a"
      },
      "outputs": [
        {
          "output_type": "stream",
          "name": "stdout",
          "text": [
            "['1t_png.rf.cc0bb02cf74fbaaf3c5eefd641dba285.jpg', '32qu_png.rf.f91ffbf4b6178fa09d53c6585a2a377b.jpg', '35q_png.rf.81dc4710967af7246f344ccbdfe58539.jpg', '11a_png.rf.ae89867ce2a64963cba1c795f85b2310.jpg', '32qt_png.rf.5df2a6de5d7691631e63ecf8bb16fe1e.jpg', '2o_jpg.rf.ecf2f7950715c57332a348d0baa3d2dc.jpg', '42_PNG.rf.14b58fe2c104f9ae37f052911f0b7bc9.jpg', '33q_png.rf.3c5e04e84d4a0498d25589ae72e9fb0a.jpg', '2a_png.rf.d7d9c29548c743149e690f5face0b2af.jpg', '4k_png.rf.85ac6748b4052c413415b4946f0cd1ca.jpg']\n"
          ]
        }
      ],
      "source": [
        "train_fnames = os.listdir( train_dir )\n",
        "test_fnames = os.listdir( test_dir )\n",
        "\n",
        "print(train_fnames[:10])\n"
      ]
    },
    {
      "cell_type": "code",
      "execution_count": null,
      "id": "fc628145",
      "metadata": {
        "colab": {
          "base_uri": "https://localhost:8080/"
        },
        "id": "fc628145",
        "outputId": "7af3a4f9-a978-4392-c696-ea8df25a3d42"
      },
      "outputs": [
        {
          "output_type": "stream",
          "name": "stdout",
          "text": [
            "total training ringworm images : 455\n",
            "total test ringworm images : 101\n"
          ]
        }
      ],
      "source": [
        "print('total training ringworm images :', len(os.listdir(      train_dir ) ))\n",
        "\n",
        "print('total test ringworm images :', len(os.listdir( test_dir ) ))\n"
      ]
    },
    {
      "cell_type": "code",
      "execution_count": null,
      "id": "U1hQTI2SA4zb",
      "metadata": {
        "id": "U1hQTI2SA4zb"
      },
      "outputs": [],
      "source": [
        "  '''Creates a CNN with 4 convolutional layers'''\n",
        "  model = tf.keras.models.Sequential([\n",
        "      tf.keras.layers.Conv2D(32, (3,3), activation='relu', input_shape=(150, 150, 3)),\n",
        "      tf.keras.layers.MaxPooling2D(2, 2),\n",
        "      tf.keras.layers.Conv2D(64, (3,3), activation='relu'),\n",
        "      tf.keras.layers.MaxPooling2D(2,2),\n",
        "      tf.keras.layers.Conv2D(128, (3,3), activation='relu'),\n",
        "      tf.keras.layers.MaxPooling2D(2,2),\n",
        "      tf.keras.layers.Conv2D(128, (3,3), activation='relu'),\n",
        "      tf.keras.layers.MaxPooling2D(2,2),\n",
        "      tf.keras.layers.Flatten(),\n",
        "      tf.keras.layers.Dense(512, activation='relu'),\n",
        "      tf.keras.layers.Dense(1, activation='sigmoid')\n",
        "  ])\n",
        "\n",
        "  model.compile(loss='binary_crossentropy',\n",
        "                optimizer=RMSprop(learning_rate=1e-4),\n",
        "                metrics=['accuracy'])\n",
        "\n",
        " # return model\n"
      ]
    },
    {
      "cell_type": "code",
      "execution_count": null,
      "id": "4b74f255",
      "metadata": {
        "colab": {
          "base_uri": "https://localhost:8080/"
        },
        "id": "4b74f255",
        "outputId": "1379c58f-3ac5-4f4c-fd7d-0a932f822f2f"
      },
      "outputs": [
        {
          "output_type": "stream",
          "name": "stdout",
          "text": [
            "Found 553 images belonging to 2 classes.\n",
            "Found 553 images belonging to 2 classes.\n"
          ]
        }
      ],
      "source": [
        "# Flow training images in batches of 20 using train_datagen generator\n",
        "train_datagen = ImageDataGenerator(rescale=1./255,\n",
        "      rotation_range=40,\n",
        "      width_shift_range=0.2,\n",
        "      height_shift_range=0.2,\n",
        "      shear_range=0.2,\n",
        "      zoom_range=0.2,\n",
        "      horizontal_flip=True,\n",
        "      fill_mode='nearest')\n",
        "\n",
        "test_datagen = ImageDataGenerator(rescale=1./255,\n",
        "      rotation_range=40,\n",
        "      width_shift_range=0.2,\n",
        "      height_shift_range=0.2,\n",
        "      shear_range=0.2,\n",
        "      zoom_range=0.2,\n",
        "      horizontal_flip=True,\n",
        "      fill_mode='nearest')\n",
        "\n",
        "train_generator = train_datagen.flow_from_directory(\n",
        "        data_dir,  # This is the source directory for training images\n",
        "        target_size=(150, 150),  # All images will be resized to 150x150\n",
        "        batch_size=20,\n",
        "        # Since we use binary_crossentropy loss, we need binary labels\n",
        "        class_mode='binary')\n",
        "\n",
        "# Flow validation images in batches of 20 using test_datagen generatorv\n",
        "test_generator = test_datagen.flow_from_directory(\n",
        "        data_dir,\n",
        "        target_size=(150, 150),\n",
        "        batch_size=20,\n",
        "        class_mode='binary')"
      ]
    },
    {
      "cell_type": "code",
      "execution_count": null,
      "id": "9b4ab57d",
      "metadata": {
        "colab": {
          "base_uri": "https://localhost:8080/"
        },
        "id": "9b4ab57d",
        "outputId": "c38db8a1-a19f-432f-83cc-651543ed166d"
      },
      "outputs": [
        {
          "output_type": "stream",
          "name": "stdout",
          "text": [
            "Epoch 1/50\n",
            "8/8 [==============================] - 37s 3s/step - loss: 0.5835 - accuracy: 0.8000 - val_loss: 0.4822 - val_accuracy: 0.8375\n",
            "Epoch 2/50\n",
            "8/8 [==============================] - 11s 2s/step - loss: 0.5294 - accuracy: 0.8062 - val_loss: 0.4381 - val_accuracy: 0.8438\n",
            "Epoch 3/50\n",
            "8/8 [==============================] - 5s 618ms/step - loss: 0.4378 - accuracy: 0.8625 - val_loss: 0.4922 - val_accuracy: 0.8125\n",
            "Epoch 4/50\n",
            "8/8 [==============================] - 5s 654ms/step - loss: 0.4339 - accuracy: 0.8562 - val_loss: 0.4149 - val_accuracy: 0.8625\n",
            "Epoch 5/50\n",
            "8/8 [==============================] - 6s 882ms/step - loss: 0.5012 - accuracy: 0.8105 - val_loss: 0.4697 - val_accuracy: 0.8188\n",
            "Epoch 6/50\n",
            "8/8 [==============================] - 3s 422ms/step - loss: 0.4512 - accuracy: 0.8438 - val_loss: 0.3904 - val_accuracy: 0.8750\n",
            "Epoch 7/50\n",
            "8/8 [==============================] - 3s 380ms/step - loss: 0.4389 - accuracy: 0.8500 - val_loss: 0.5299 - val_accuracy: 0.7812\n",
            "Epoch 8/50\n",
            "8/8 [==============================] - 3s 427ms/step - loss: 0.4931 - accuracy: 0.8105 - val_loss: 0.4179 - val_accuracy: 0.8562\n",
            "Epoch 9/50\n",
            "8/8 [==============================] - 3s 416ms/step - loss: 0.4553 - accuracy: 0.8250 - val_loss: 0.4586 - val_accuracy: 0.8188\n",
            "Epoch 10/50\n",
            "8/8 [==============================] - 2s 326ms/step - loss: 0.4491 - accuracy: 0.8235 - val_loss: 0.4978 - val_accuracy: 0.8062\n",
            "Epoch 11/50\n",
            "8/8 [==============================] - 3s 344ms/step - loss: 0.4941 - accuracy: 0.7812 - val_loss: 0.4875 - val_accuracy: 0.8000\n",
            "Epoch 12/50\n",
            "8/8 [==============================] - 4s 515ms/step - loss: 0.3834 - accuracy: 0.8562 - val_loss: 0.5040 - val_accuracy: 0.7812\n",
            "Epoch 13/50\n",
            "8/8 [==============================] - 3s 338ms/step - loss: 0.4883 - accuracy: 0.7908 - val_loss: 0.4237 - val_accuracy: 0.8188\n",
            "Epoch 14/50\n",
            "8/8 [==============================] - 3s 349ms/step - loss: 0.4502 - accuracy: 0.8062 - val_loss: 0.4069 - val_accuracy: 0.8250\n",
            "Epoch 15/50\n",
            "8/8 [==============================] - 4s 490ms/step - loss: 0.4331 - accuracy: 0.8125 - val_loss: 0.3794 - val_accuracy: 0.8375\n",
            "Epoch 16/50\n",
            "8/8 [==============================] - 3s 336ms/step - loss: 0.3842 - accuracy: 0.8375 - val_loss: 0.3399 - val_accuracy: 0.8562\n",
            "Epoch 17/50\n",
            "8/8 [==============================] - 3s 339ms/step - loss: 0.3583 - accuracy: 0.8562 - val_loss: 0.3257 - val_accuracy: 0.8500\n",
            "Epoch 18/50\n",
            "8/8 [==============================] - 3s 363ms/step - loss: 0.3591 - accuracy: 0.8431 - val_loss: 0.3251 - val_accuracy: 0.8250\n",
            "Epoch 19/50\n",
            "8/8 [==============================] - 3s 336ms/step - loss: 0.3115 - accuracy: 0.8758 - val_loss: 0.3309 - val_accuracy: 0.8250\n",
            "Epoch 20/50\n",
            "8/8 [==============================] - 3s 336ms/step - loss: 0.3414 - accuracy: 0.8188 - val_loss: 0.3288 - val_accuracy: 0.8313\n",
            "Epoch 21/50\n",
            "8/8 [==============================] - 2s 331ms/step - loss: 0.3050 - accuracy: 0.8431 - val_loss: 0.3384 - val_accuracy: 0.8500\n",
            "Epoch 22/50\n",
            "8/8 [==============================] - 4s 511ms/step - loss: 0.3173 - accuracy: 0.8170 - val_loss: 0.3307 - val_accuracy: 0.7937\n",
            "Epoch 23/50\n",
            "8/8 [==============================] - 3s 413ms/step - loss: 0.2954 - accuracy: 0.8313 - val_loss: 0.2915 - val_accuracy: 0.8875\n",
            "Epoch 24/50\n",
            "8/8 [==============================] - 2s 325ms/step - loss: 0.2442 - accuracy: 0.8954 - val_loss: 0.2832 - val_accuracy: 0.8438\n",
            "Epoch 25/50\n",
            "8/8 [==============================] - 2s 331ms/step - loss: 0.2174 - accuracy: 0.8875 - val_loss: 0.2215 - val_accuracy: 0.8625\n",
            "Epoch 26/50\n",
            "8/8 [==============================] - 4s 508ms/step - loss: 0.2741 - accuracy: 0.8889 - val_loss: 0.2667 - val_accuracy: 0.8687\n",
            "Epoch 27/50\n",
            "8/8 [==============================] - 3s 353ms/step - loss: 0.2428 - accuracy: 0.8938 - val_loss: 0.1939 - val_accuracy: 0.9250\n",
            "Epoch 28/50\n",
            "8/8 [==============================] - 3s 339ms/step - loss: 0.2224 - accuracy: 0.9000 - val_loss: 0.1806 - val_accuracy: 0.9312\n",
            "Epoch 29/50\n",
            "8/8 [==============================] - 3s 423ms/step - loss: 0.2555 - accuracy: 0.8431 - val_loss: 0.2419 - val_accuracy: 0.8625\n",
            "Epoch 30/50\n",
            "8/8 [==============================] - 3s 335ms/step - loss: 0.2446 - accuracy: 0.8813 - val_loss: 0.2301 - val_accuracy: 0.9125\n",
            "Epoch 31/50\n",
            "8/8 [==============================] - 3s 336ms/step - loss: 0.2638 - accuracy: 0.8500 - val_loss: 0.1938 - val_accuracy: 0.9438\n",
            "Epoch 32/50\n",
            "8/8 [==============================] - 3s 374ms/step - loss: 0.2335 - accuracy: 0.9085 - val_loss: 0.1486 - val_accuracy: 0.9625\n",
            "Epoch 33/50\n",
            "8/8 [==============================] - 3s 334ms/step - loss: 0.2132 - accuracy: 0.9375 - val_loss: 0.2230 - val_accuracy: 0.8938\n",
            "Epoch 34/50\n",
            "8/8 [==============================] - 3s 341ms/step - loss: 0.1804 - accuracy: 0.9312 - val_loss: 0.1996 - val_accuracy: 0.9000\n",
            "Epoch 35/50\n",
            "8/8 [==============================] - 4s 507ms/step - loss: 0.1835 - accuracy: 0.9281 - val_loss: 0.2312 - val_accuracy: 0.9000\n",
            "Epoch 36/50\n",
            "8/8 [==============================] - 3s 385ms/step - loss: 0.1779 - accuracy: 0.9412 - val_loss: 0.1790 - val_accuracy: 0.9250\n",
            "Epoch 37/50\n",
            "8/8 [==============================] - 4s 577ms/step - loss: 0.1994 - accuracy: 0.8813 - val_loss: 0.2515 - val_accuracy: 0.8813\n",
            "Epoch 38/50\n",
            "8/8 [==============================] - 4s 516ms/step - loss: 0.1799 - accuracy: 0.9216 - val_loss: 0.1734 - val_accuracy: 0.9500\n",
            "Epoch 39/50\n",
            "8/8 [==============================] - 3s 338ms/step - loss: 0.1751 - accuracy: 0.9375 - val_loss: 0.2324 - val_accuracy: 0.8938\n",
            "Epoch 40/50\n",
            "8/8 [==============================] - 3s 341ms/step - loss: 0.1390 - accuracy: 0.9438 - val_loss: 0.1639 - val_accuracy: 0.9187\n",
            "Epoch 41/50\n",
            "8/8 [==============================] - 3s 345ms/step - loss: 0.1182 - accuracy: 0.9563 - val_loss: 0.2159 - val_accuracy: 0.8875\n",
            "Epoch 42/50\n",
            "8/8 [==============================] - 3s 418ms/step - loss: 0.1372 - accuracy: 0.9438 - val_loss: 0.1350 - val_accuracy: 0.9625\n",
            "Epoch 43/50\n",
            "8/8 [==============================] - 3s 341ms/step - loss: 0.1809 - accuracy: 0.9125 - val_loss: 0.1541 - val_accuracy: 0.9375\n",
            "Epoch 44/50\n",
            "8/8 [==============================] - 4s 519ms/step - loss: 0.1579 - accuracy: 0.9312 - val_loss: 0.1478 - val_accuracy: 0.9375\n",
            "Epoch 45/50\n",
            "8/8 [==============================] - 3s 392ms/step - loss: 0.1266 - accuracy: 0.9438 - val_loss: 0.1525 - val_accuracy: 0.9312\n",
            "Epoch 46/50\n",
            "8/8 [==============================] - 3s 335ms/step - loss: 0.1980 - accuracy: 0.9281 - val_loss: 0.1405 - val_accuracy: 0.9500\n",
            "Epoch 47/50\n",
            "8/8 [==============================] - 3s 340ms/step - loss: 0.1254 - accuracy: 0.9500 - val_loss: 0.1462 - val_accuracy: 0.9375\n",
            "Epoch 48/50\n",
            "8/8 [==============================] - 3s 366ms/step - loss: 0.1798 - accuracy: 0.9346 - val_loss: 0.1524 - val_accuracy: 0.9375\n",
            "Epoch 49/50\n",
            "8/8 [==============================] - 2s 331ms/step - loss: 0.1756 - accuracy: 0.9346 - val_loss: 0.2184 - val_accuracy: 0.8875\n",
            "Epoch 50/50\n",
            "8/8 [==============================] - 2s 330ms/step - loss: 0.1210 - accuracy: 0.9375 - val_loss: 0.1635 - val_accuracy: 0.9250\n"
          ]
        }
      ],
      "source": [
        "history = model.fit(\n",
        "        train_generator,\n",
        "        steps_per_epoch=8,\n",
        "        epochs=50,\n",
        "        verbose=1,\n",
        "        validation_data = test_generator,\n",
        "        validation_steps=8)"
      ]
    },
    {
      "cell_type": "code",
      "execution_count": null,
      "id": "df45c6ac",
      "metadata": {
        "colab": {
          "base_uri": "https://localhost:8080/",
          "height": 1000
        },
        "id": "df45c6ac",
        "outputId": "c5eb22a9-b0cb-4d2d-a870-67f51e47691e"
      },
      "outputs": [
        {
          "output_type": "display_data",
          "data": {
            "text/plain": [
              "<IPython.core.display.HTML object>"
            ],
            "text/html": [
              "\n",
              "     <input type=\"file\" id=\"files-fec59c61-a0a9-49d7-99ad-15a8ce3843a9\" name=\"files[]\" multiple disabled\n",
              "        style=\"border:none\" />\n",
              "     <output id=\"result-fec59c61-a0a9-49d7-99ad-15a8ce3843a9\">\n",
              "      Upload widget is only available when the cell has been executed in the\n",
              "      current browser session. Please rerun this cell to enable.\n",
              "      </output>\n",
              "      <script>// Copyright 2017 Google LLC\n",
              "//\n",
              "// Licensed under the Apache License, Version 2.0 (the \"License\");\n",
              "// you may not use this file except in compliance with the License.\n",
              "// You may obtain a copy of the License at\n",
              "//\n",
              "//      http://www.apache.org/licenses/LICENSE-2.0\n",
              "//\n",
              "// Unless required by applicable law or agreed to in writing, software\n",
              "// distributed under the License is distributed on an \"AS IS\" BASIS,\n",
              "// WITHOUT WARRANTIES OR CONDITIONS OF ANY KIND, either express or implied.\n",
              "// See the License for the specific language governing permissions and\n",
              "// limitations under the License.\n",
              "\n",
              "/**\n",
              " * @fileoverview Helpers for google.colab Python module.\n",
              " */\n",
              "(function(scope) {\n",
              "function span(text, styleAttributes = {}) {\n",
              "  const element = document.createElement('span');\n",
              "  element.textContent = text;\n",
              "  for (const key of Object.keys(styleAttributes)) {\n",
              "    element.style[key] = styleAttributes[key];\n",
              "  }\n",
              "  return element;\n",
              "}\n",
              "\n",
              "// Max number of bytes which will be uploaded at a time.\n",
              "const MAX_PAYLOAD_SIZE = 100 * 1024;\n",
              "\n",
              "function _uploadFiles(inputId, outputId) {\n",
              "  const steps = uploadFilesStep(inputId, outputId);\n",
              "  const outputElement = document.getElementById(outputId);\n",
              "  // Cache steps on the outputElement to make it available for the next call\n",
              "  // to uploadFilesContinue from Python.\n",
              "  outputElement.steps = steps;\n",
              "\n",
              "  return _uploadFilesContinue(outputId);\n",
              "}\n",
              "\n",
              "// This is roughly an async generator (not supported in the browser yet),\n",
              "// where there are multiple asynchronous steps and the Python side is going\n",
              "// to poll for completion of each step.\n",
              "// This uses a Promise to block the python side on completion of each step,\n",
              "// then passes the result of the previous step as the input to the next step.\n",
              "function _uploadFilesContinue(outputId) {\n",
              "  const outputElement = document.getElementById(outputId);\n",
              "  const steps = outputElement.steps;\n",
              "\n",
              "  const next = steps.next(outputElement.lastPromiseValue);\n",
              "  return Promise.resolve(next.value.promise).then((value) => {\n",
              "    // Cache the last promise value to make it available to the next\n",
              "    // step of the generator.\n",
              "    outputElement.lastPromiseValue = value;\n",
              "    return next.value.response;\n",
              "  });\n",
              "}\n",
              "\n",
              "/**\n",
              " * Generator function which is called between each async step of the upload\n",
              " * process.\n",
              " * @param {string} inputId Element ID of the input file picker element.\n",
              " * @param {string} outputId Element ID of the output display.\n",
              " * @return {!Iterable<!Object>} Iterable of next steps.\n",
              " */\n",
              "function* uploadFilesStep(inputId, outputId) {\n",
              "  const inputElement = document.getElementById(inputId);\n",
              "  inputElement.disabled = false;\n",
              "\n",
              "  const outputElement = document.getElementById(outputId);\n",
              "  outputElement.innerHTML = '';\n",
              "\n",
              "  const pickedPromise = new Promise((resolve) => {\n",
              "    inputElement.addEventListener('change', (e) => {\n",
              "      resolve(e.target.files);\n",
              "    });\n",
              "  });\n",
              "\n",
              "  const cancel = document.createElement('button');\n",
              "  inputElement.parentElement.appendChild(cancel);\n",
              "  cancel.textContent = 'Cancel upload';\n",
              "  const cancelPromise = new Promise((resolve) => {\n",
              "    cancel.onclick = () => {\n",
              "      resolve(null);\n",
              "    };\n",
              "  });\n",
              "\n",
              "  // Wait for the user to pick the files.\n",
              "  const files = yield {\n",
              "    promise: Promise.race([pickedPromise, cancelPromise]),\n",
              "    response: {\n",
              "      action: 'starting',\n",
              "    }\n",
              "  };\n",
              "\n",
              "  cancel.remove();\n",
              "\n",
              "  // Disable the input element since further picks are not allowed.\n",
              "  inputElement.disabled = true;\n",
              "\n",
              "  if (!files) {\n",
              "    return {\n",
              "      response: {\n",
              "        action: 'complete',\n",
              "      }\n",
              "    };\n",
              "  }\n",
              "\n",
              "  for (const file of files) {\n",
              "    const li = document.createElement('li');\n",
              "    li.append(span(file.name, {fontWeight: 'bold'}));\n",
              "    li.append(span(\n",
              "        `(${file.type || 'n/a'}) - ${file.size} bytes, ` +\n",
              "        `last modified: ${\n",
              "            file.lastModifiedDate ? file.lastModifiedDate.toLocaleDateString() :\n",
              "                                    'n/a'} - `));\n",
              "    const percent = span('0% done');\n",
              "    li.appendChild(percent);\n",
              "\n",
              "    outputElement.appendChild(li);\n",
              "\n",
              "    const fileDataPromise = new Promise((resolve) => {\n",
              "      const reader = new FileReader();\n",
              "      reader.onload = (e) => {\n",
              "        resolve(e.target.result);\n",
              "      };\n",
              "      reader.readAsArrayBuffer(file);\n",
              "    });\n",
              "    // Wait for the data to be ready.\n",
              "    let fileData = yield {\n",
              "      promise: fileDataPromise,\n",
              "      response: {\n",
              "        action: 'continue',\n",
              "      }\n",
              "    };\n",
              "\n",
              "    // Use a chunked sending to avoid message size limits. See b/62115660.\n",
              "    let position = 0;\n",
              "    do {\n",
              "      const length = Math.min(fileData.byteLength - position, MAX_PAYLOAD_SIZE);\n",
              "      const chunk = new Uint8Array(fileData, position, length);\n",
              "      position += length;\n",
              "\n",
              "      const base64 = btoa(String.fromCharCode.apply(null, chunk));\n",
              "      yield {\n",
              "        response: {\n",
              "          action: 'append',\n",
              "          file: file.name,\n",
              "          data: base64,\n",
              "        },\n",
              "      };\n",
              "\n",
              "      let percentDone = fileData.byteLength === 0 ?\n",
              "          100 :\n",
              "          Math.round((position / fileData.byteLength) * 100);\n",
              "      percent.textContent = `${percentDone}% done`;\n",
              "\n",
              "    } while (position < fileData.byteLength);\n",
              "  }\n",
              "\n",
              "  // All done.\n",
              "  yield {\n",
              "    response: {\n",
              "      action: 'complete',\n",
              "    }\n",
              "  };\n",
              "}\n",
              "\n",
              "scope.google = scope.google || {};\n",
              "scope.google.colab = scope.google.colab || {};\n",
              "scope.google.colab._files = {\n",
              "  _uploadFiles,\n",
              "  _uploadFilesContinue,\n",
              "};\n",
              "})(self);\n",
              "</script> "
            ]
          },
          "metadata": {}
        },
        {
          "output_type": "stream",
          "name": "stdout",
          "text": [
            "Saving holahop 1.jpg to holahop 1 (1).jpg\n",
            "Saving holahop 2.jpg to holahop 2 (1).jpg\n",
            "Saving luka kering.jpeg to luka kering (1).jpeg\n",
            "Saving mixue.jpg to mixue (1).jpg\n",
            "Saving muka 1.jpg to muka 1 (1).jpg\n",
            "Saving muka 2.jpg to muka 2 (1).jpg\n",
            "Saving muka 3.jpg to muka 3.jpg\n",
            "Saving ringworm 1.jpg to ringworm 1.jpg\n",
            "Saving ringworm 2.jpg to ringworm 2.jpg\n",
            "Saving ringworm 3.jpg to ringworm 3.jpg\n",
            "Saving sakura 1.jpg to sakura 1 (1).jpg\n",
            "Saving sakura 2.jpg to sakura 2 (1).jpg\n",
            "Saving scabs on cat 1.jpg to scabs on cat 1 (1).jpg\n",
            "Saving strawberry.jpg to strawberry (1).jpg\n",
            "1/1 [==============================] - 0s 28ms/step\n",
            "[0.]\n",
            "holahop 1.jpg Not Ringworm\n",
            "1/1 [==============================] - 0s 32ms/step\n",
            "[0.]\n",
            "holahop 2.jpg Not Ringworm\n",
            "1/1 [==============================] - 0s 29ms/step\n",
            "[0.]\n",
            "luka kering.jpeg Not Ringworm\n",
            "1/1 [==============================] - 0s 27ms/step\n",
            "[0.]\n",
            "mixue.jpg Not Ringworm\n",
            "1/1 [==============================] - 0s 30ms/step\n",
            "[0.]\n",
            "muka 1.jpg Not Ringworm\n",
            "1/1 [==============================] - 0s 29ms/step\n",
            "[0.]\n",
            "muka 2.jpg Not Ringworm\n",
            "1/1 [==============================] - 0s 19ms/step\n",
            "[0.]\n",
            "muka 3.jpg Not Ringworm\n",
            "1/1 [==============================] - 0s 19ms/step\n",
            "[1.]\n",
            "ringworm 1.jpg Ringworm\n",
            "1/1 [==============================] - 0s 27ms/step\n",
            "[1.]\n",
            "ringworm 2.jpg Ringworm\n",
            "1/1 [==============================] - 0s 21ms/step\n",
            "[1.]\n",
            "ringworm 3.jpg Ringworm\n",
            "1/1 [==============================] - 0s 19ms/step\n",
            "[0.]\n",
            "sakura 1.jpg Not Ringworm\n",
            "1/1 [==============================] - 0s 19ms/step\n",
            "[0.]\n",
            "sakura 2.jpg Not Ringworm\n",
            "1/1 [==============================] - 0s 23ms/step\n",
            "[0.]\n",
            "scabs on cat 1.jpg Not Ringworm\n",
            "1/1 [==============================] - 0s 24ms/step\n",
            "[0.]\n",
            "strawberry.jpg Not Ringworm\n"
          ]
        }
      ],
      "source": [
        "import numpy as np\n",
        "#from keras.preprocessing import image\n",
        "import keras.utils as image\n",
        "#from tensorflow.keras.utils import load_img\n",
        "from google.colab import files\n",
        "#from tensorflow.keras.preprocessing.image import img_to_array, load_img\n",
        "\n",
        "uploaded = files.upload()\n",
        "\n",
        "for fn in uploaded.keys():\n",
        "\n",
        "  # predicting images\n",
        "  path = '/content/' + fn\n",
        "  img = image.load_img(path, target_size=(150, 150))\n",
        "  x = image.img_to_array(img)\n",
        "  x = np.expand_dims(x, axis=0)\n",
        "\n",
        "  images = np.vstack([x])\n",
        "  classes = model.predict(images, batch_size=10)\n",
        "  print(classes[0])\n",
        "  if classes[0]>0.5:\n",
        "    print(fn + \" Ringworm\")\n",
        "  else:\n",
        "    print(fn + \" Not Ringworm\")"
      ]
    },
    {
      "cell_type": "code",
      "execution_count": null,
      "id": "kVgvGnCK9IWT",
      "metadata": {
        "id": "kVgvGnCK9IWT"
      },
      "outputs": [],
      "source": [
        "import matplotlib.pyplot as plt\n",
        "\n",
        "def plot_loss_acc(history):\n",
        "  '''Plots the training and validation loss and accuracy from a history object'''\n",
        "  acc = history.history['accuracy']\n",
        "  val_acc = history.history['val_accuracy']\n",
        "  loss = history.history['loss']\n",
        "  val_loss = history.history['val_loss']\n",
        "\n",
        "  epochs = range(len(acc))\n",
        "\n",
        "  plt.plot(epochs, acc, 'bo', label='Training accuracy')\n",
        "  plt.plot(epochs, val_acc, 'b', label='Validation accuracy')\n",
        "  plt.title('Training and validation accuracy')\n",
        "\n",
        "  plt.figure()\n",
        "\n",
        "  plt.plot(epochs, loss, 'bo', label='Training Loss')\n",
        "  plt.plot(epochs, val_loss, 'b', label='Validation Loss')\n",
        "  plt.title('Training and validation loss')\n",
        "  plt.legend()\n",
        "\n",
        "  plt.show()"
      ]
    },
    {
      "cell_type": "code",
      "execution_count": null,
      "id": "qJ8PfiDj67WX",
      "metadata": {
        "colab": {
          "base_uri": "https://localhost:8080/",
          "height": 887
        },
        "id": "qJ8PfiDj67WX",
        "outputId": "d5aae0ea-87ce-4ea3-ceaa-8f1904328d9d"
      },
      "outputs": [
        {
          "output_type": "display_data",
          "data": {
            "text/plain": [
              "<Figure size 640x480 with 1 Axes>"
            ],
            "image/png": "[encoded data removed]"
          },
          "metadata": {}
        },
        {
          "output_type": "display_data",
          "data": {
            "text/plain": [
              "<Figure size 640x480 with 1 Axes>"
            ],
            "image/png": "[encoded data removed]"
          },
          "metadata": {}
        }
      ],
      "source": [
        "plot_loss_acc(history)"
      ]
    },
    {
      "cell_type": "code",
      "execution_count": null,
      "id": "JWQOyMfs9csZ",
      "metadata": {
        "colab": {
          "base_uri": "https://localhost:8080/",
          "height": 211
        },
        "id": "JWQOyMfs9csZ",
        "outputId": "ba7d5423-2b53-407d-c1ec-042cc1060d55"
      },
      "outputs": [
        {
          "output_type": "stream",
          "name": "stderr",
          "text": [
            "WARNING:absl:Found untraced functions such as _jit_compiled_convolution_op, _jit_compiled_convolution_op, _jit_compiled_convolution_op, _jit_compiled_convolution_op while saving (showing 4 of 4). These functions will not be directly callable after loading.\n"
          ]
        },
        {
          "output_type": "stream",
          "name": "stdout",
          "text": [
            "updating: content/my_model/ (stored 0%)\n",
            "updating: content/my_model/variables/ (stored 0%)\n",
            "updating: content/my_model/variables/variables.data-00000-of-00001 (deflated 8%)\n",
            "updating: content/my_model/variables/variables.index (deflated 61%)\n",
            "updating: content/my_model/assets/ (stored 0%)\n",
            "updating: content/my_model/keras_metadata.pb (deflated 92%)\n",
            "updating: content/my_model/fingerprint.pb (stored 0%)\n",
            "updating: content/my_model/saved_model.pb (deflated 88%)\n"
          ]
        },
        {
          "output_type": "display_data",
          "data": {
            "text/plain": [
              "<IPython.core.display.Javascript object>"
            ],
            "application/javascript": [
              "\n",
              "    async function download(id, filename, size) {\n",
              "      if (!google.colab.kernel.accessAllowed) {\n",
              "        return;\n",
              "      }\n",
              "      const div = document.createElement('div');\n",
              "      const label = document.createElement('label');\n",
              "      label.textContent = `Downloading \"${filename}\": `;\n",
              "      div.appendChild(label);\n",
              "      const progress = document.createElement('progress');\n",
              "      progress.max = size;\n",
              "      div.appendChild(progress);\n",
              "      document.body.appendChild(div);\n",
              "\n",
              "      const buffers = [];\n",
              "      let downloaded = 0;\n",
              "\n",
              "      const channel = await google.colab.kernel.comms.open(id);\n",
              "      // Send a message to notify the kernel that we're ready.\n",
              "      channel.send({})\n",
              "\n",
              "      for await (const message of channel.messages) {\n",
              "        // Send a message to notify the kernel that we're ready.\n",
              "        channel.send({})\n",
              "        if (message.buffers) {\n",
              "          for (const buffer of message.buffers) {\n",
              "            buffers.push(buffer);\n",
              "            downloaded += buffer.byteLength;\n",
              "            progress.value = downloaded;\n",
              "          }\n",
              "        }\n",
              "      }\n",
              "      const blob = new Blob(buffers, {type: 'application/binary'});\n",
              "      const a = document.createElement('a');\n",
              "      a.href = window.URL.createObjectURL(blob);\n",
              "      a.download = filename;\n",
              "      div.appendChild(a);\n",
              "      a.click();\n",
              "      div.remove();\n",
              "    }\n",
              "  "
            ]
          },
          "metadata": {}
        },
        {
          "output_type": "display_data",
          "data": {
            "text/plain": [
              "<IPython.core.display.Javascript object>"
            ],
            "application/javascript": [
              "download(\"download_f38f37ef-f9e0-4966-9f97-113d85a1b202\", \"my_model.zip\", 25521703)"
            ]
          },
          "metadata": {}
        }
      ],
      "source": [
        "from google.colab import files\n",
        "model.save('my_model')\n",
        "\n",
        "!zip -r /content/my_model.zip /content/my_model\n",
        "files.download('/content/my_model.zip')"
      ]
    },
    {
      "cell_type": "code",
      "execution_count": null,
      "id": "ARJzkS2x9z3o",
      "metadata": {
        "id": "ARJzkS2x9z3o"
      },
      "outputs": [],
      "source": [
        "model.save('my_model.h5')"
      ]
    },
    {
      "cell_type": "code",
      "execution_count": null,
      "id": "UmdVzObSAG_b",
      "metadata": {
        "colab": {
          "base_uri": "https://localhost:8080/",
          "height": 34
        },
        "id": "UmdVzObSAG_b",
        "outputId": "9034f27d-5652-4b7b-87a0-a76ab92abf45"
      },
      "outputs": [
        {
          "output_type": "display_data",
          "data": {
            "text/plain": [
              "<IPython.core.display.Javascript object>"
            ],
            "application/javascript": [
              "\n",
              "    async function download(id, filename, size) {\n",
              "      if (!google.colab.kernel.accessAllowed) {\n",
              "        return;\n",
              "      }\n",
              "      const div = document.createElement('div');\n",
              "      const label = document.createElement('label');\n",
              "      label.textContent = `Downloading \"${filename}\": `;\n",
              "      div.appendChild(label);\n",
              "      const progress = document.createElement('progress');\n",
              "      progress.max = size;\n",
              "      div.appendChild(progress);\n",
              "      document.body.appendChild(div);\n",
              "\n",
              "      const buffers = [];\n",
              "      let downloaded = 0;\n",
              "\n",
              "      const channel = await google.colab.kernel.comms.open(id);\n",
              "      // Send a message to notify the kernel that we're ready.\n",
              "      channel.send({})\n",
              "\n",
              "      for await (const message of channel.messages) {\n",
              "        // Send a message to notify the kernel that we're ready.\n",
              "        channel.send({})\n",
              "        if (message.buffers) {\n",
              "          for (const buffer of message.buffers) {\n",
              "            buffers.push(buffer);\n",
              "            downloaded += buffer.byteLength;\n",
              "            progress.value = downloaded;\n",
              "          }\n",
              "        }\n",
              "      }\n",
              "      const blob = new Blob(buffers, {type: 'application/binary'});\n",
              "      const a = document.createElement('a');\n",
              "      a.href = window.URL.createObjectURL(blob);\n",
              "      a.download = filename;\n",
              "      div.appendChild(a);\n",
              "      a.click();\n",
              "      div.remove();\n",
              "    }\n",
              "  "
            ]
          },
          "metadata": {}
        },
        {
          "output_type": "display_data",
          "data": {
            "text/plain": [
              "<IPython.core.display.Javascript object>"
            ],
            "application/javascript": [
              "download(\"download_c578658e-a312-4c9f-8778-5ad0e5a340c2\", \"my_model.h5\", 27672616)"
            ]
          },
          "metadata": {}
        }
      ],
      "source": [
        "files.download('my_model.h5')"
      ]
    }
  ],
  "metadata": {
    "colab": {
      "provenance": [],
      "gpuType": "T4",
      "include_colab_link": true
    },
    "kernelspec": {
      "display_name": "Python 3",
      "name": "python3"
    },
    "language_info": {
      "codemirror_mode": {
        "name": "ipython",
        "version": 3
      },
      "file_extension": ".py",
      "mimetype": "text/x-python",
      "name": "python",
      "nbconvert_exporter": "python",
      "pygments_lexer": "ipython3",
      "version": "3.9.7"
    },
    "accelerator": "GPU"
  },
  "nbformat": 4,
  "nbformat_minor": 5
}