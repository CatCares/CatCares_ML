<a href="https://githubtocolab.com/CatCares/CatCares_ML/edit/main/Ringworm_Prediction.ipynb">Link</a>

{
  "cells": [
    {
      "cell_type": "code",
      "execution_count": null,
      "metadata": {
        "id": "f4ca8ab8"
      },
      "outputs": [],
      "source": [
        "import tensorflow as tf\n",
        "import numpy as np\n",
        "from tensorflow import keras\n",
        "import os\n",
        "from google.colab import drive\n",
        "import pathlib\n",
        "#import zipfile\n",
        "import matplotlib.pyplot as plt\n",
        "import matplotlib.image as mpimg\n",
        "import itertools\n",
        "from sklearn.metrics import classification_report, confusion_matrix\n",
        "from tensorflow.keras.optimizers import RMSprop\n",
        "from tensorflow.keras.preprocessing.image import ImageDataGenerator"
      ],
      "id": "f4ca8ab8"
    },
    {
      "cell_type": "code",
      "execution_count": null,
      "metadata": {
        "colab": {
          "base_uri": "https://localhost:8080/"
        },
        "id": "3cd83d2b",
        "outputId": "80c0e922-e57c-476d-dde7-2e598f39b8e4"
      },
      "outputs": [
        {
          "output_type": "stream",
          "name": "stdout",
          "text": [
            "Mounted at /content/gdrive\n",
            "gdrive/My Drive/Capstone/Data/Cat+dog ringworm.1\n"
          ]
        }
      ],
      "source": [
        "\n",
        "# Download the dataset\n",
        "drive.mount('/content/gdrive')\n",
        "data_dir = \"gdrive/My Drive/Capstone/Data/Cat+dog ringworm.1\"\n",
        "data_dir = pathlib.Path(data_dir)\n",
        "print(data_dir)"
      ],
      "id": "3cd83d2b"
    },
    {
      "cell_type": "code",
      "execution_count": null,
      "metadata": {
        "id": "72a2cace"
      },
      "outputs": [],
      "source": [
        "train_dir = os.path.join(data_dir, 'Training')\n",
        "test_dir = os.path.join(data_dir, 'Test')"
      ],
      "id": "72a2cace"
    },
    {
      "cell_type": "code",
      "execution_count": null,
      "metadata": {
        "colab": {
          "base_uri": "https://localhost:8080/"
        },
        "id": "FfKC1kXOluHc",
        "outputId": "23b4b338-026e-43d9-c8b6-e7c8d15ba2ca"
      },
      "outputs": [
        {
          "output_type": "stream",
          "name": "stdout",
          "text": [
            "['43w_png.rf.6587abf79f09be70225c235ccf239869.jpg', '33i_png.rf.0985459dacea89db93d23bd1b9a2eddc.jpg', '43_PNG.rf.2aa03f6a218ed51b78fa0ddf76244707.jpg', '3s_png.rf.fb8d6daeabbdb4ca907413368cb9f403.jpg', '46w_png.rf.5951ba46ee62a1be1d52fb100e49bfb9.jpg', '2009-2652-Yegar-M-Canis-Cafhw_jpg.rf.8f91a6cdec180df42e1ed66d3f1947d4.jpg', '32qu_png.rf.f91ffbf4b6178fa09d53c6585a2a377b.jpg', '2009-2652-Yegar-M-Canis-Catq_jpg.rf.63afef8b319baa6629d6404bd25793e5.jpg', '42q_png.rf.798930485bab00a37d3b612ea9499b28.jpg', '44q_png.rf.20d2c18b477b34e210acd720716f93d9.jpg']\n"
          ]
        }
      ],
      "source": [
        "train_fnames = os.listdir( train_dir )\n",
        "test_fnames = os.listdir( test_dir )\n",
        "#train_dog_fnames = os.listdir( train_dogs_dir )\n",
        "\n",
        "print(train_fnames[:10])\n",
        "#print(train_dog_fnames[:10])"
      ],
      "id": "FfKC1kXOluHc"
    },
    {
      "cell_type": "code",
      "execution_count": null,
      "metadata": {
        "colab": {
          "base_uri": "https://localhost:8080/"
        },
        "id": "fc628145",
        "outputId": "e6530bb8-86bf-4a80-b330-d5f642418382"
      },
      "outputs": [
        {
          "output_type": "stream",
          "name": "stdout",
          "text": [
            "total training ringworm images : 455\n",
            "total test ringworm images : 101\n"
          ]
        }
      ],
      "source": [
        "print('total training ringworm images :', len(os.listdir(      train_dir ) ))\n",
        "\n",
        "print('total test ringworm images :', len(os.listdir( test_dir ) ))\n"
      ],
      "id": "fc628145"
    },
    {
      "cell_type": "code",
      "source": [
        "  '''Creates a CNN with 4 convolutional layers'''\n",
        "  model = tf.keras.models.Sequential([\n",
        "      tf.keras.layers.Conv2D(32, (3,3), activation='relu', input_shape=(150, 150, 3)),\n",
        "      tf.keras.layers.MaxPooling2D(2, 2),\n",
        "      tf.keras.layers.Conv2D(64, (3,3), activation='relu'),\n",
        "      tf.keras.layers.MaxPooling2D(2,2),\n",
        "      tf.keras.layers.Conv2D(128, (3,3), activation='relu'),\n",
        "      tf.keras.layers.MaxPooling2D(2,2),\n",
        "      tf.keras.layers.Conv2D(128, (3,3), activation='relu'),\n",
        "      tf.keras.layers.MaxPooling2D(2,2),\n",
        "      tf.keras.layers.Flatten(),\n",
        "      tf.keras.layers.Dense(512, activation='relu'),\n",
        "      tf.keras.layers.Dense(1, activation='sigmoid')\n",
        "  ])\n",
        "\n",
        "  model.compile(loss='binary_crossentropy',\n",
        "                optimizer=RMSprop(learning_rate=1e-4),\n",
        "                metrics=['accuracy'])\n",
        "\n",
        " # return model\n"
      ],
      "metadata": {
        "id": "U1hQTI2SA4zb"
      },
      "id": "U1hQTI2SA4zb",
      "execution_count": null,
      "outputs": []
    },
    {
      "cell_type": "code",
      "execution_count": null,
      "metadata": {
        "colab": {
          "base_uri": "https://localhost:8080/"
        },
        "id": "4b74f255",
        "outputId": "651ff169-2018-41e5-f2db-4e027c66b073"
      },
      "outputs": [
        {
          "output_type": "stream",
          "name": "stdout",
          "text": [
            "Found 553 images belonging to 2 classes.\n",
            "Found 553 images belonging to 2 classes.\n"
          ]
        }
      ],
      "source": [
        "# Flow training images in batches of 20 using train_datagen generator\n",
        "train_datagen = ImageDataGenerator(rescale=1./255,\n",
        "      rotation_range=40,\n",
        "      width_shift_range=0.2,\n",
        "      height_shift_range=0.2,\n",
        "      shear_range=0.2,\n",
        "      zoom_range=0.2,\n",
        "      horizontal_flip=True,\n",
        "      fill_mode='nearest')\n",
        "\n",
        "test_datagen = ImageDataGenerator(rescale=1./255,\n",
        "      rotation_range=40,\n",
        "      width_shift_range=0.2,\n",
        "      height_shift_range=0.2,\n",
        "      shear_range=0.2,\n",
        "      zoom_range=0.2,\n",
        "      horizontal_flip=True,\n",
        "      fill_mode='nearest')\n",
        "\n",
        "train_generator = train_datagen.flow_from_directory(\n",
        "        data_dir,  # This is the source directory for training images\n",
        "        target_size=(150, 150),  # All images will be resized to 150x150\n",
        "        batch_size=20,\n",
        "        # Since we use binary_crossentropy loss, we need binary labels\n",
        "        class_mode='binary')\n",
        "\n",
        "# Flow validation images in batches of 20 using test_datagen generatorv\n",
        "test_generator = test_datagen.flow_from_directory(\n",
        "        data_dir,\n",
        "        target_size=(150, 150),\n",
        "        batch_size=20,\n",
        "        class_mode='binary')"
      ],
      "id": "4b74f255"
    },
    {
      "cell_type": "code",
      "execution_count": null,
      "metadata": {
        "id": "9b4ab57d",
        "colab": {
          "base_uri": "https://localhost:8080/"
        },
        "outputId": "d02a4fcb-e348-4428-ac89-b84bd2008062"
      },
      "outputs": [
        {
          "output_type": "stream",
          "name": "stdout",
          "text": [
            "Epoch 1/50\n",
            "8/8 [==============================] - 19s 2s/step - loss: 0.5735 - accuracy: 0.7125 - val_loss: 0.5157 - val_accuracy: 0.7937\n",
            "Epoch 2/50\n",
            "8/8 [==============================] - 11s 1s/step - loss: 0.4783 - accuracy: 0.8301 - val_loss: 0.4753 - val_accuracy: 0.8313\n",
            "Epoch 3/50\n",
            "8/8 [==============================] - 11s 1s/step - loss: 0.4983 - accuracy: 0.8188 - val_loss: 0.5011 - val_accuracy: 0.8062\n",
            "Epoch 4/50\n",
            "8/8 [==============================] - 8s 1s/step - loss: 0.5058 - accuracy: 0.8062 - val_loss: 0.4964 - val_accuracy: 0.8250\n",
            "Epoch 5/50\n",
            "8/8 [==============================] - 8s 1s/step - loss: 0.4291 - accuracy: 0.8562 - val_loss: 0.5392 - val_accuracy: 0.7812\n",
            "Epoch 6/50\n",
            "8/8 [==============================] - 9s 1s/step - loss: 0.5219 - accuracy: 0.7908 - val_loss: 0.5039 - val_accuracy: 0.7937\n",
            "Epoch 7/50\n",
            "8/8 [==============================] - 9s 1s/step - loss: 0.3910 - accuracy: 0.8758 - val_loss: 0.4095 - val_accuracy: 0.8500\n",
            "Epoch 8/50\n",
            "8/8 [==============================] - 8s 1s/step - loss: 0.4621 - accuracy: 0.8250 - val_loss: 0.4737 - val_accuracy: 0.8000\n",
            "Epoch 9/50\n",
            "8/8 [==============================] - 8s 988ms/step - loss: 0.4490 - accuracy: 0.8375 - val_loss: 0.4517 - val_accuracy: 0.8188\n",
            "Epoch 10/50\n",
            "8/8 [==============================] - 11s 1s/step - loss: 0.4509 - accuracy: 0.8188 - val_loss: 0.4774 - val_accuracy: 0.8188\n",
            "Epoch 11/50\n",
            "8/8 [==============================] - 8s 1s/step - loss: 0.4591 - accuracy: 0.7937 - val_loss: 0.4879 - val_accuracy: 0.7937\n",
            "Epoch 12/50\n",
            "8/8 [==============================] - 9s 1s/step - loss: 0.4914 - accuracy: 0.7875 - val_loss: 0.4484 - val_accuracy: 0.7812\n",
            "Epoch 13/50\n",
            "8/8 [==============================] - 9s 1s/step - loss: 0.4244 - accuracy: 0.7974 - val_loss: 0.3872 - val_accuracy: 0.8250\n",
            "Epoch 14/50\n",
            "8/8 [==============================] - 8s 1s/step - loss: 0.3546 - accuracy: 0.8687 - val_loss: 0.3367 - val_accuracy: 0.8562\n",
            "Epoch 15/50\n",
            "8/8 [==============================] - 7s 918ms/step - loss: 0.3488 - accuracy: 0.8431 - val_loss: 0.4647 - val_accuracy: 0.8313\n",
            "Epoch 16/50\n",
            "8/8 [==============================] - 9s 1s/step - loss: 0.4169 - accuracy: 0.8235 - val_loss: 0.5471 - val_accuracy: 0.8000\n",
            "Epoch 17/50\n",
            "8/8 [==============================] - 11s 1s/step - loss: 0.3933 - accuracy: 0.8170 - val_loss: 0.3762 - val_accuracy: 0.8625\n",
            "Epoch 18/50\n",
            "8/8 [==============================] - 8s 960ms/step - loss: 0.3641 - accuracy: 0.8250 - val_loss: 0.3477 - val_accuracy: 0.7937\n",
            "Epoch 19/50\n",
            "8/8 [==============================] - 7s 944ms/step - loss: 0.3475 - accuracy: 0.8188 - val_loss: 0.3174 - val_accuracy: 0.7875\n",
            "Epoch 20/50\n",
            "8/8 [==============================] - 7s 951ms/step - loss: 0.2972 - accuracy: 0.8497 - val_loss: 0.2988 - val_accuracy: 0.8250\n",
            "Epoch 21/50\n",
            "8/8 [==============================] - 9s 1s/step - loss: 0.3927 - accuracy: 0.7875 - val_loss: 0.3015 - val_accuracy: 0.8938\n",
            "Epoch 22/50\n",
            "8/8 [==============================] - 8s 1s/step - loss: 0.2728 - accuracy: 0.8813 - val_loss: 0.2663 - val_accuracy: 0.8625\n",
            "Epoch 23/50\n",
            "8/8 [==============================] - 9s 1s/step - loss: 0.2699 - accuracy: 0.8889 - val_loss: 0.2749 - val_accuracy: 0.8687\n",
            "Epoch 24/50\n",
            "8/8 [==============================] - 9s 1s/step - loss: 0.3108 - accuracy: 0.8687 - val_loss: 0.2974 - val_accuracy: 0.8813\n",
            "Epoch 25/50\n",
            "8/8 [==============================] - 11s 2s/step - loss: 0.2172 - accuracy: 0.9187 - val_loss: 0.1907 - val_accuracy: 0.9125\n",
            "Epoch 26/50\n",
            "8/8 [==============================] - 8s 1s/step - loss: 0.2060 - accuracy: 0.9125 - val_loss: 0.2302 - val_accuracy: 0.9125\n",
            "Epoch 27/50\n",
            "8/8 [==============================] - 8s 989ms/step - loss: 0.2464 - accuracy: 0.8889 - val_loss: 0.2097 - val_accuracy: 0.9062\n",
            "Epoch 28/50\n",
            "8/8 [==============================] - 9s 1s/step - loss: 0.2283 - accuracy: 0.8875 - val_loss: 0.2224 - val_accuracy: 0.8938\n",
            "Epoch 29/50\n",
            "8/8 [==============================] - 8s 1s/step - loss: 0.2162 - accuracy: 0.9216 - val_loss: 0.2217 - val_accuracy: 0.9000\n",
            "Epoch 30/50\n",
            "8/8 [==============================] - 8s 1s/step - loss: 0.1947 - accuracy: 0.9187 - val_loss: 0.2202 - val_accuracy: 0.9125\n",
            "Epoch 31/50\n",
            "8/8 [==============================] - 8s 1s/step - loss: 0.1776 - accuracy: 0.9187 - val_loss: 0.1635 - val_accuracy: 0.9187\n",
            "Epoch 32/50\n",
            "8/8 [==============================] - 9s 1s/step - loss: 0.1162 - accuracy: 0.9750 - val_loss: 0.1945 - val_accuracy: 0.9062\n",
            "Epoch 33/50\n",
            "8/8 [==============================] - 9s 1s/step - loss: 0.2045 - accuracy: 0.9216 - val_loss: 0.1961 - val_accuracy: 0.9062\n",
            "Epoch 34/50\n",
            "8/8 [==============================] - 9s 1s/step - loss: 0.1475 - accuracy: 0.9375 - val_loss: 0.1714 - val_accuracy: 0.9125\n",
            "Epoch 35/50\n",
            "8/8 [==============================] - 7s 940ms/step - loss: 0.2074 - accuracy: 0.9000 - val_loss: 0.1737 - val_accuracy: 0.9312\n",
            "Epoch 36/50\n",
            "8/8 [==============================] - 9s 1s/step - loss: 0.1543 - accuracy: 0.9216 - val_loss: 0.1604 - val_accuracy: 0.9187\n",
            "Epoch 37/50\n",
            "8/8 [==============================] - 9s 1s/step - loss: 0.1948 - accuracy: 0.9062 - val_loss: 0.1968 - val_accuracy: 0.9125\n",
            "Epoch 38/50\n",
            "8/8 [==============================] - 8s 989ms/step - loss: 0.1447 - accuracy: 0.9477 - val_loss: 0.1784 - val_accuracy: 0.9062\n",
            "Epoch 39/50\n",
            "8/8 [==============================] - 9s 1s/step - loss: 0.1832 - accuracy: 0.8875 - val_loss: 0.1634 - val_accuracy: 0.9375\n",
            "Epoch 40/50\n",
            "8/8 [==============================] - 9s 1s/step - loss: 0.1330 - accuracy: 0.9312 - val_loss: 0.1766 - val_accuracy: 0.9250\n",
            "Epoch 41/50\n",
            "8/8 [==============================] - 10s 1s/step - loss: 0.1460 - accuracy: 0.9563 - val_loss: 0.1353 - val_accuracy: 0.9500\n",
            "Epoch 42/50\n",
            "8/8 [==============================] - 7s 916ms/step - loss: 0.2530 - accuracy: 0.8758 - val_loss: 0.1490 - val_accuracy: 0.9312\n",
            "Epoch 43/50\n",
            "8/8 [==============================] - 9s 1s/step - loss: 0.1296 - accuracy: 0.9375 - val_loss: 0.1356 - val_accuracy: 0.9625\n",
            "Epoch 44/50\n",
            "8/8 [==============================] - 9s 1s/step - loss: 0.1829 - accuracy: 0.9187 - val_loss: 0.1532 - val_accuracy: 0.9312\n",
            "Epoch 45/50\n",
            "8/8 [==============================] - 8s 1s/step - loss: 0.2052 - accuracy: 0.9125 - val_loss: 0.1622 - val_accuracy: 0.9250\n",
            "Epoch 46/50\n",
            "8/8 [==============================] - 7s 954ms/step - loss: 0.1781 - accuracy: 0.9250 - val_loss: 0.1353 - val_accuracy: 0.9500\n",
            "Epoch 47/50\n",
            "8/8 [==============================] - 8s 931ms/step - loss: 0.1520 - accuracy: 0.9412 - val_loss: 0.1307 - val_accuracy: 0.9438\n",
            "Epoch 48/50\n",
            "8/8 [==============================] - 9s 1s/step - loss: 0.0923 - accuracy: 0.9688 - val_loss: 0.1149 - val_accuracy: 0.9563\n",
            "Epoch 49/50\n",
            "8/8 [==============================] - 9s 1s/step - loss: 0.1561 - accuracy: 0.9312 - val_loss: 0.0952 - val_accuracy: 0.9625\n",
            "Epoch 50/50\n",
            "8/8 [==============================] - 8s 1s/step - loss: 0.1226 - accuracy: 0.9563 - val_loss: 0.1914 - val_accuracy: 0.9062\n"
          ]
        }
      ],
      "source": [
        "history = model.fit(\n",
        "        train_generator,\n",
        "        steps_per_epoch=8,\n",
        "        epochs=50,\n",
        "        verbose=1,\n",
        "        validation_data = test_generator,\n",
        "        validation_steps=8)"
      ],
      "id": "9b4ab57d"
    },
    {
      "cell_type": "code",
      "execution_count": null,
      "metadata": {
        "id": "df45c6ac",
        "outputId": "dff229f7-fe2b-4f45-deb4-567e7b81f583",
        "colab": {
          "base_uri": "https://localhost:8080/",
          "height": 1000
        }
      },
      "outputs": [
        {
          "output_type": "display_data",
          "data": {
            "text/plain": [
              "<IPython.core.display.HTML object>"
            ],
            "text/html": [
              "\n",
              "     <input type=\"file\" id=\"files-618e9619-e0a6-4f2f-b3fd-4bf633453129\" name=\"files[]\" multiple disabled\n",
              "        style=\"border:none\" />\n",
              "     <output id=\"result-618e9619-e0a6-4f2f-b3fd-4bf633453129\">\n",
              "      Upload widget is only available when the cell has been executed in the\n",
              "      current browser session. Please rerun this cell to enable.\n",
              "      </output>\n",
              "      <script>// Copyright 2017 Google LLC\n",
              "//\n",
              "// Licensed under the Apache License, Version 2.0 (the \"License\");\n",
              "// you may not use this file except in compliance with the License.\n",
              "// You may obtain a copy of the License at\n",
              "//\n",
              "//      http://www.apache.org/licenses/LICENSE-2.0\n",
              "//\n",
              "// Unless required by applicable law or agreed to in writing, software\n",
              "// distributed under the License is distributed on an \"AS IS\" BASIS,\n",
              "// WITHOUT WARRANTIES OR CONDITIONS OF ANY KIND, either express or implied.\n",
              "// See the License for the specific language governing permissions and\n",
              "// limitations under the License.\n",
              "\n",
              "/**\n",
              " * @fileoverview Helpers for google.colab Python module.\n",
              " */\n",
              "(function(scope) {\n",
              "function span(text, styleAttributes = {}) {\n",
              "  const element = document.createElement('span');\n",
              "  element.textContent = text;\n",
              "  for (const key of Object.keys(styleAttributes)) {\n",
              "    element.style[key] = styleAttributes[key];\n",
              "  }\n",
              "  return element;\n",
              "}\n",
              "\n",
              "// Max number of bytes which will be uploaded at a time.\n",
              "const MAX_PAYLOAD_SIZE = 100 * 1024;\n",
              "\n",
              "function _uploadFiles(inputId, outputId) {\n",
              "  const steps = uploadFilesStep(inputId, outputId);\n",
              "  const outputElement = document.getElementById(outputId);\n",
              "  // Cache steps on the outputElement to make it available for the next call\n",
              "  // to uploadFilesContinue from Python.\n",
              "  outputElement.steps = steps;\n",
              "\n",
              "  return _uploadFilesContinue(outputId);\n",
              "}\n",
              "\n",
              "// This is roughly an async generator (not supported in the browser yet),\n",
              "// where there are multiple asynchronous steps and the Python side is going\n",
              "// to poll for completion of each step.\n",
              "// This uses a Promise to block the python side on completion of each step,\n",
              "// then passes the result of the previous step as the input to the next step.\n",
              "function _uploadFilesContinue(outputId) {\n",
              "  const outputElement = document.getElementById(outputId);\n",
              "  const steps = outputElement.steps;\n",
              "\n",
              "  const next = steps.next(outputElement.lastPromiseValue);\n",
              "  return Promise.resolve(next.value.promise).then((value) => {\n",
              "    // Cache the last promise value to make it available to the next\n",
              "    // step of the generator.\n",
              "    outputElement.lastPromiseValue = value;\n",
              "    return next.value.response;\n",
              "  });\n",
              "}\n",
              "\n",
              "/**\n",
              " * Generator function which is called between each async step of the upload\n",
              " * process.\n",
              " * @param {string} inputId Element ID of the input file picker element.\n",
              " * @param {string} outputId Element ID of the output display.\n",
              " * @return {!Iterable<!Object>} Iterable of next steps.\n",
              " */\n",
              "function* uploadFilesStep(inputId, outputId) {\n",
              "  const inputElement = document.getElementById(inputId);\n",
              "  inputElement.disabled = false;\n",
              "\n",
              "  const outputElement = document.getElementById(outputId);\n",
              "  outputElement.innerHTML = '';\n",
              "\n",
              "  const pickedPromise = new Promise((resolve) => {\n",
              "    inputElement.addEventListener('change', (e) => {\n",
              "      resolve(e.target.files);\n",
              "    });\n",
              "  });\n",
              "\n",
              "  const cancel = document.createElement('button');\n",
              "  inputElement.parentElement.appendChild(cancel);\n",
              "  cancel.textContent = 'Cancel upload';\n",
              "  const cancelPromise = new Promise((resolve) => {\n",
              "    cancel.onclick = () => {\n",
              "      resolve(null);\n",
              "    };\n",
              "  });\n",
              "\n",
              "  // Wait for the user to pick the files.\n",
              "  const files = yield {\n",
              "    promise: Promise.race([pickedPromise, cancelPromise]),\n",
              "    response: {\n",
              "      action: 'starting',\n",
              "    }\n",
              "  };\n",
              "\n",
              "  cancel.remove();\n",
              "\n",
              "  // Disable the input element since further picks are not allowed.\n",
              "  inputElement.disabled = true;\n",
              "\n",
              "  if (!files) {\n",
              "    return {\n",
              "      response: {\n",
              "        action: 'complete',\n",
              "      }\n",
              "    };\n",
              "  }\n",
              "\n",
              "  for (const file of files) {\n",
              "    const li = document.createElement('li');\n",
              "    li.append(span(file.name, {fontWeight: 'bold'}));\n",
              "    li.append(span(\n",
              "        `(${file.type || 'n/a'}) - ${file.size} bytes, ` +\n",
              "        `last modified: ${\n",
              "            file.lastModifiedDate ? file.lastModifiedDate.toLocaleDateString() :\n",
              "                                    'n/a'} - `));\n",
              "    const percent = span('0% done');\n",
              "    li.appendChild(percent);\n",
              "\n",
              "    outputElement.appendChild(li);\n",
              "\n",
              "    const fileDataPromise = new Promise((resolve) => {\n",
              "      const reader = new FileReader();\n",
              "      reader.onload = (e) => {\n",
              "        resolve(e.target.result);\n",
              "      };\n",
              "      reader.readAsArrayBuffer(file);\n",
              "    });\n",
              "    // Wait for the data to be ready.\n",
              "    let fileData = yield {\n",
              "      promise: fileDataPromise,\n",
              "      response: {\n",
              "        action: 'continue',\n",
              "      }\n",
              "    };\n",
              "\n",
              "    // Use a chunked sending to avoid message size limits. See b/62115660.\n",
              "    let position = 0;\n",
              "    do {\n",
              "      const length = Math.min(fileData.byteLength - position, MAX_PAYLOAD_SIZE);\n",
              "      const chunk = new Uint8Array(fileData, position, length);\n",
              "      position += length;\n",
              "\n",
              "      const base64 = btoa(String.fromCharCode.apply(null, chunk));\n",
              "      yield {\n",
              "        response: {\n",
              "          action: 'append',\n",
              "          file: file.name,\n",
              "          data: base64,\n",
              "        },\n",
              "      };\n",
              "\n",
              "      let percentDone = fileData.byteLength === 0 ?\n",
              "          100 :\n",
              "          Math.round((position / fileData.byteLength) * 100);\n",
              "      percent.textContent = `${percentDone}% done`;\n",
              "\n",
              "    } while (position < fileData.byteLength);\n",
              "  }\n",
              "\n",
              "  // All done.\n",
              "  yield {\n",
              "    response: {\n",
              "      action: 'complete',\n",
              "    }\n",
              "  };\n",
              "}\n",
              "\n",
              "scope.google = scope.google || {};\n",
              "scope.google.colab = scope.google.colab || {};\n",
              "scope.google.colab._files = {\n",
              "  _uploadFiles,\n",
              "  _uploadFilesContinue,\n",
              "};\n",
              "})(self);\n",
              "</script> "
            ]
          },
          "metadata": {}
        },
        {
          "output_type": "stream",
          "name": "stdout",
          "text": [
            "Saving strawberry.jpg to strawberry.jpg\n",
            "Saving mixue.png to mixue.png\n",
            "Saving pas foto2.jpg to pas foto2.jpg\n",
            "Saving pas foto.jpg to pas foto.jpg\n",
            "Saving hulahoop2.jpg to hulahoop2.jpg\n",
            "Saving bunga.jpg to bunga.jpg\n",
            "Saving bunga sakura.jpg to bunga sakura.jpg\n",
            "Saving hulahoop.jpg to hulahoop.jpg\n",
            "Saving bulu rontok.jpg to bulu rontok.jpg\n",
            "Saving scabies.jpg to scabies.jpg\n",
            "Saving RM3.jpg to RM3.jpg\n",
            "Saving RM2.jpg to RM2.jpg\n",
            "Saving RM.jpg to RM.jpg\n",
            "1/1 [==============================] - 0s 108ms/step\n",
            "[0.]\n",
            "strawberry.jpg Not Ringworm\n",
            "1/1 [==============================] - 0s 25ms/step\n",
            "[0.]\n",
            "mixue.png Not Ringworm\n",
            "1/1 [==============================] - 0s 26ms/step\n",
            "[0.]\n",
            "pas foto2.jpg Not Ringworm\n",
            "1/1 [==============================] - 0s 28ms/step\n",
            "[0.]\n",
            "pas foto.jpg Not Ringworm\n",
            "1/1 [==============================] - 0s 25ms/step\n",
            "[0.]\n",
            "hulahoop2.jpg Not Ringworm\n",
            "1/1 [==============================] - 0s 26ms/step\n",
            "[0.]\n",
            "bunga.jpg Not Ringworm\n",
            "1/1 [==============================] - 0s 30ms/step\n",
            "[0.]\n",
            "bunga sakura.jpg Not Ringworm\n",
            "1/1 [==============================] - 0s 30ms/step\n",
            "[0.]\n",
            "hulahoop.jpg Not Ringworm\n",
            "1/1 [==============================] - 0s 28ms/step\n",
            "[0.]\n",
            "bulu rontok.jpg Not Ringworm\n",
            "1/1 [==============================] - 0s 28ms/step\n",
            "[0.]\n",
            "scabies.jpg Not Ringworm\n",
            "1/1 [==============================] - 0s 27ms/step\n",
            "[1.]\n",
            "RM3.jpg Ringworm\n",
            "1/1 [==============================] - 0s 25ms/step\n",
            "[1.]\n",
            "RM2.jpg Ringworm\n",
            "1/1 [==============================] - 0s 25ms/step\n",
            "[1.]\n",
            "RM.jpg Ringworm\n"
          ]
        }
      ],
      "source": [
        "import numpy as np\n",
        "#from keras.preprocessing import image\n",
        "import keras.utils as image\n",
        "#from tensorflow.keras.utils import load_img\n",
        "from google.colab import files\n",
        "#from tensorflow.keras.preprocessing.image import img_to_array, load_img\n",
        "\n",
        "uploaded = files.upload()\n",
        "\n",
        "for fn in uploaded.keys():\n",
        "\n",
        "  # predicting images\n",
        "  path = '/content/' + fn\n",
        "  img = image.load_img(path, target_size=(150, 150))\n",
        "  x = image.img_to_array(img)\n",
        "  x = np.expand_dims(x, axis=0)\n",
        "\n",
        "  images = np.vstack([x])\n",
        "  classes = model.predict(images, batch_size=10)\n",
        "  print(classes[0])\n",
        "  if classes[0]>0.5:\n",
        "    print(fn + \" Ringworm\")\n",
        "  else:\n",
        "    print(fn + \" Not Ringworm\")"
      ],
      "id": "df45c6ac"
    },
    {
      "cell_type": "code",
      "source": [
        "import matplotlib.pyplot as plt\n",
        "\n",
        "def plot_loss_acc(history):\n",
        "  '''Plots the training and validation loss and accuracy from a history object'''\n",
        "  acc = history.history['accuracy']\n",
        "  val_acc = history.history['val_accuracy']\n",
        "  loss = history.history['loss']\n",
        "  val_loss = history.history['val_loss']\n",
        "\n",
        "  epochs = range(len(acc))\n",
        "\n",
        "  plt.plot(epochs, acc, 'bo', label='Training accuracy')\n",
        "  plt.plot(epochs, val_acc, 'b', label='Validation accuracy')\n",
        "  plt.title('Training and validation accuracy')\n",
        "\n",
        "  plt.figure()\n",
        "\n",
        "  plt.plot(epochs, loss, 'bo', label='Training Loss')\n",
        "  plt.plot(epochs, val_loss, 'b', label='Validation Loss')\n",
        "  plt.title('Training and validation loss')\n",
        "  plt.legend()\n",
        "\n",
        "  plt.show()"
      ],
      "metadata": {
        "id": "kVgvGnCK9IWT"
      },
      "id": "kVgvGnCK9IWT",
      "execution_count": null,
      "outputs": []
    },
    {
      "cell_type": "code",
      "source": [
        "plot_loss_acc(history)"
      ],
      "metadata": {
        "colab": {
          "base_uri": "https://localhost:8080/",
          "height": 887
        },
        "id": "qJ8PfiDj67WX",
        "outputId": "6a0cd29e-871d-45f3-f811-de2f1475461c"
      },
      "id": "qJ8PfiDj67WX",
      "execution_count": null,
      "outputs": [
        {
          "output_type": "display_data",
          "data": {
            "text/plain": [
              "<Figure size 640x480 with 1 Axes>"
            ],
            "image/png": "[encoded data removed]"
          },
          "metadata": {}
        },
        {
          "output_type": "display_data",
          "data": {
            "text/plain": [
              "<Figure size 640x480 with 1 Axes>"
            ],
            "image/png": "[encoded data removed]"
          },
          "metadata": {}
        }
      ]
    },
    {
      "cell_type": "code",
      "execution_count": null,
      "metadata": {
        "id": "0af112bf",
        "colab": {
          "base_uri": "https://localhost:8080/",
          "height": 1000
        },
        "outputId": "727d36ef-eeaf-4755-9074-cfa7728893b4"
      },
      "outputs": [
        {
          "output_type": "stream",
          "name": "stdout",
          "text": [
            "28/28 [==============================] - 8s 269ms/step\n",
            "Classification Report\n",
            "              precision    recall  f1-score   support\n",
            "\n",
            "    Ringworm       0.18      1.00      0.31       100\n",
            "Not Ringworm       0.00      0.00      0.00       453\n",
            "\n",
            "    accuracy                           0.18       553\n",
            "   macro avg       0.09      0.50      0.15       553\n",
            "weighted avg       0.03      0.18      0.06       553\n",
            "\n"
          ]
        },
        {
          "output_type": "stream",
          "name": "stderr",
          "text": [
            "/usr/local/lib/python3.10/dist-packages/sklearn/metrics/_classification.py:1344: UndefinedMetricWarning: Precision and F-score are ill-defined and being set to 0.0 in labels with no predicted samples. Use `zero_division` parameter to control this behavior.\n",
            "  _warn_prf(average, modifier, msg_start, len(result))\n",
            "/usr/local/lib/python3.10/dist-packages/sklearn/metrics/_classification.py:1344: UndefinedMetricWarning: Precision and F-score are ill-defined and being set to 0.0 in labels with no predicted samples. Use `zero_division` parameter to control this behavior.\n",
            "  _warn_prf(average, modifier, msg_start, len(result))\n",
            "/usr/local/lib/python3.10/dist-packages/sklearn/metrics/_classification.py:1344: UndefinedMetricWarning: Precision and F-score are ill-defined and being set to 0.0 in labels with no predicted samples. Use `zero_division` parameter to control this behavior.\n",
            "  _warn_prf(average, modifier, msg_start, len(result))\n"
          ]
        },
        {
          "output_type": "display_data",
          "data": {
            "text/plain": [
              "<Figure size 1000x1000 with 2 Axes>"
            ],
            "image/png": "[encoded data removed]"
          },
          "metadata": {}
        }
      ],
      "source": [
        "def plot_confusion_matrix(cm, classes, normalize=True, title='Confusion matrix', cmap=plt.cm.Blues):\n",
        "    \"\"\"\n",
        "    This function prints and plots the confusion matrix.\n",
        "    Normalization can be applied by setting `normalize=True`.\n",
        "    \"\"\"\n",
        "    plt.figure(figsize=(10,10))\n",
        "    plt.imshow(cm, interpolation='nearest', cmap=cmap)\n",
        "    plt.title(title)\n",
        "    plt.colorbar()\n",
        "    tick_marks = np.arange(len(classes))\n",
        "    plt.xticks(tick_marks, classes, rotation=45)\n",
        "    plt.yticks(tick_marks, classes)\n",
        "    if normalize:\n",
        "        cm = cm.astype('float') / cm.sum(axis=1)[:, np.newaxis]\n",
        "        cm = np.around(cm, decimals=2)\n",
        "        cm[np.isnan(cm)] = 0.0\n",
        "    thresh = cm.max() / 2.\n",
        "    for i, j in itertools.product(range(cm.shape[0]), range(cm.shape[1])):\n",
        "        plt.text(j, i, cm[i, j],\n",
        "                 horizontalalignment=\"center\",\n",
        "                 color=\"white\" if cm[i, j] > thresh else \"black\")\n",
        "    plt.tight_layout()\n",
        "    plt.ylabel('True label')\n",
        "    plt.xlabel('Predicted label')\n",
        "\n",
        "\n",
        "# On test dataset\n",
        "Y_pred = model.predict(test_generator)\n",
        "y_pred = np.argmax(Y_pred, axis=1)\n",
        "target_names = ['Ringworm', 'Not Ringworm']\n",
        "\n",
        "# Confusion Matrix\n",
        "cm = confusion_matrix(test_generator.classes, y_pred)\n",
        "plot_confusion_matrix(cm, target_names, normalize=False, title='Confusion Matrix')\n",
        "\n",
        "# Classification Report\n",
        "print('Classification Report')\n",
        "print(classification_report(test_generator.classes, y_pred, target_names=target_names))"
      ],
      "id": "0af112bf"
    },
    {
      "cell_type": "code",
      "source": [
        "from google.colab import files\n",
        "model.save('my_model')\n",
        "\n",
        "!zip -r /content/my_model.zip /content/my_model\n",
        "files.download('/content/my_model.zip')"
      ],
      "metadata": {
        "colab": {
          "base_uri": "https://localhost:8080/",
          "height": 211
        },
        "id": "JWQOyMfs9csZ",
        "outputId": "76ec9802-3178-43b6-af61-71b2365127e6"
      },
      "id": "JWQOyMfs9csZ",
      "execution_count": null,
      "outputs": [
        {
          "output_type": "stream",
          "name": "stderr",
          "text": [
            "WARNING:absl:Found untraced functions such as _jit_compiled_convolution_op, _jit_compiled_convolution_op, _jit_compiled_convolution_op, _jit_compiled_convolution_op, _update_step_xla while saving (showing 5 of 5). These functions will not be directly callable after loading.\n"
          ]
        },
        {
          "output_type": "stream",
          "name": "stdout",
          "text": [
            "  adding: content/my_model/ (stored 0%)\n",
            "  adding: content/my_model/fingerprint.pb (stored 0%)\n",
            "  adding: content/my_model/keras_metadata.pb (deflated 92%)\n",
            "  adding: content/my_model/saved_model.pb (deflated 89%)\n",
            "  adding: content/my_model/variables/ (stored 0%)\n",
            "  adding: content/my_model/variables/variables.index (deflated 62%)\n",
            "  adding: content/my_model/variables/variables.data-00000-of-00001 (deflated 7%)\n",
            "  adding: content/my_model/assets/ (stored 0%)\n"
          ]
        },
        {
          "output_type": "display_data",
          "data": {
            "text/plain": [
              "<IPython.core.display.Javascript object>"
            ],
            "application/javascript": [
              "\n",
              "    async function download(id, filename, size) {\n",
              "      if (!google.colab.kernel.accessAllowed) {\n",
              "        return;\n",
              "      }\n",
              "      const div = document.createElement('div');\n",
              "      const label = document.createElement('label');\n",
              "      label.textContent = `Downloading \"${filename}\": `;\n",
              "      div.appendChild(label);\n",
              "      const progress = document.createElement('progress');\n",
              "      progress.max = size;\n",
              "      div.appendChild(progress);\n",
              "      document.body.appendChild(div);\n",
              "\n",
              "      const buffers = [];\n",
              "      let downloaded = 0;\n",
              "\n",
              "      const channel = await google.colab.kernel.comms.open(id);\n",
              "      // Send a message to notify the kernel that we're ready.\n",
              "      channel.send({})\n",
              "\n",
              "      for await (const message of channel.messages) {\n",
              "        // Send a message to notify the kernel that we're ready.\n",
              "        channel.send({})\n",
              "        if (message.buffers) {\n",
              "          for (const buffer of message.buffers) {\n",
              "            buffers.push(buffer);\n",
              "            downloaded += buffer.byteLength;\n",
              "            progress.value = downloaded;\n",
              "          }\n",
              "        }\n",
              "      }\n",
              "      const blob = new Blob(buffers, {type: 'application/binary'});\n",
              "      const a = document.createElement('a');\n",
              "      a.href = window.URL.createObjectURL(blob);\n",
              "      a.download = filename;\n",
              "      div.appendChild(a);\n",
              "      a.click();\n",
              "      div.remove();\n",
              "    }\n",
              "  "
            ]
          },
          "metadata": {}
        },
        {
          "output_type": "display_data",
          "data": {
            "text/plain": [
              "<IPython.core.display.Javascript object>"
            ],
            "application/javascript": [
              "download(\"download_efa235b7-9e45-46c3-8e37-e5a9602b3884\", \"my_model.zip\", 25589181)"
            ]
          },
          "metadata": {}
        }
      ]
    },
    {
      "cell_type": "code",
      "source": [
        "model.save('my_model.h5')"
      ],
      "metadata": {
        "id": "ARJzkS2x9z3o"
      },
      "id": "ARJzkS2x9z3o",
      "execution_count": null,
      "outputs": []
    },
    {
      "cell_type": "code",
      "source": [
        "files.download('my_model.h5')"
      ],
      "metadata": {
        "id": "UmdVzObSAG_b",
        "colab": {
          "base_uri": "https://localhost:8080/",
          "height": 34
        },
        "outputId": "522bd042-f055-4051-c65d-7e5361a7fd5b"
      },
      "id": "UmdVzObSAG_b",
      "execution_count": null,
      "outputs": [
        {
          "output_type": "display_data",
          "data": {
            "text/plain": [
              "<IPython.core.display.Javascript object>"
            ],
            "application/javascript": [
              "\n",
              "    async function download(id, filename, size) {\n",
              "      if (!google.colab.kernel.accessAllowed) {\n",
              "        return;\n",
              "      }\n",
              "      const div = document.createElement('div');\n",
              "      const label = document.createElement('label');\n",
              "      label.textContent = `Downloading \"${filename}\": `;\n",
              "      div.appendChild(label);\n",
              "      const progress = document.createElement('progress');\n",
              "      progress.max = size;\n",
              "      div.appendChild(progress);\n",
              "      document.body.appendChild(div);\n",
              "\n",
              "      const buffers = [];\n",
              "      let downloaded = 0;\n",
              "\n",
              "      const channel = await google.colab.kernel.comms.open(id);\n",
              "      // Send a message to notify the kernel that we're ready.\n",
              "      channel.send({})\n",
              "\n",
              "      for await (const message of channel.messages) {\n",
              "        // Send a message to notify the kernel that we're ready.\n",
              "        channel.send({})\n",
              "        if (message.buffers) {\n",
              "          for (const buffer of message.buffers) {\n",
              "            buffers.push(buffer);\n",
              "            downloaded += buffer.byteLength;\n",
              "            progress.value = downloaded;\n",
              "          }\n",
              "        }\n",
              "      }\n",
              "      const blob = new Blob(buffers, {type: 'application/binary'});\n",
              "      const a = document.createElement('a');\n",
              "      a.href = window.URL.createObjectURL(blob);\n",
              "      a.download = filename;\n",
              "      div.appendChild(a);\n",
              "      a.click();\n",
              "      div.remove();\n",
              "    }\n",
              "  "
            ]
          },
          "metadata": {}
        },
        {
          "output_type": "display_data",
          "data": {
            "text/plain": [
              "<IPython.core.display.Javascript object>"
            ],
            "application/javascript": [
              "download(\"download_cdcd1eae-2cbf-4f22-b595-41f4b2fe68cf\", \"my_model.h5\", 27672616)"
            ]
          },
          "metadata": {}
        }
      ]
    },
    {
      "cell_type": "code",
      "source": [],
      "metadata": {
        "id": "qWzaCrnWQ8oS"
      },
      "id": "qWzaCrnWQ8oS",
      "execution_count": null,
      "outputs": []
    }
  ],
  "metadata": {
    "colab": {
      "provenance": []
    },
    "kernelspec": {
      "display_name": "Python 3 (ipykernel)",
      "language": "python",
      "name": "python3"
    },
    "language_info": {
      "codemirror_mode": {
        "name": "ipython",
        "version": 3
      },
      "file_extension": ".py",
      "mimetype": "text/x-python",
      "name": "python",
      "nbconvert_exporter": "python",
      "pygments_lexer": "ipython3",
      "version": "3.9.7"
    }
  },
  "nbformat": 4,
  "nbformat_minor": 5
}
